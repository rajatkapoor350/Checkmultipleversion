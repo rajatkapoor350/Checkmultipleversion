{
 "cells": [
  {
   "cell_type": "code",
   "execution_count": 2,
   "id": "19200112",
   "metadata": {},
   "outputs": [
    {
     "name": "stdout",
     "output_type": "stream",
     "text": [
      "Moved 'BecomeDealerData_25_December_2023.csv' to 'C:\\Users\\rajat.kapoor\\OneDrive - RattanIndia Power Limited\\Desktop\\Revolt Dashboard Data\\Become Dealer'.\n"
     ]
    }
   ],
   "source": [
    "import os\n",
    "import shutil\n",
    "from pathlib import Path\n",
    "\n",
    "def move_latest_csv_to_folder(source_folder, destination_folder):\n",
    "    # Ensure source and destination folders exist\n",
    "    if not os.path.exists(source_folder):\n",
    "        print(f\"Source folder '{source_folder}' does not exist.\")\n",
    "        return\n",
    "\n",
    "    if not os.path.exists(destination_folder):\n",
    "        print(f\"Destination folder '{destination_folder}' does not exist. Creating it.\")\n",
    "        os.makedirs(destination_folder)\n",
    "\n",
    "    # Get a list of all CSV files in the source folder\n",
    "    csv_files = [file for file in os.listdir(source_folder) if file.endswith('.csv')]\n",
    "\n",
    "    # Check if there are any CSV files\n",
    "    if not csv_files:\n",
    "        print(f\"No CSV files found in the source folder '{source_folder}'.\")\n",
    "        return\n",
    "\n",
    "    # Get the latest CSV file based on modification time\n",
    "    latest_csv = max(csv_files, key=lambda file: os.path.getmtime(os.path.join(source_folder, file)))\n",
    "\n",
    "    # Build the full paths for source and destination\n",
    "    source_path = os.path.join(source_folder, latest_csv)\n",
    "    destination_path = os.path.join(destination_folder, latest_csv)\n",
    "\n",
    "    # Move the file to the destination folder\n",
    "    shutil.move(source_path, destination_path)\n",
    "    print(f\"Moved '{latest_csv}' to '{destination_folder}'.\")\n",
    "\n",
    "# Example usage\n",
    "downloads_folder = \"C:\\\\Users\\\\rajat.kapoor\\\\Downloads\"\n",
    "destination_folder = \"C:\\\\Users\\\\rajat.kapoor\\\\OneDrive - RattanIndia Power Limited\\\\Desktop\\\\Revolt Dashboard Data\\\\Become Dealer\"\n",
    "\n",
    "move_latest_csv_to_folder(downloads_folder, destination_folder)"
   ]
  },
  {
   "cell_type": "code",
   "execution_count": 3,
   "id": "a832350f",
   "metadata": {},
   "outputs": [],
   "source": [
    "import pandas as pd\n",
    "\n",
    "import os\n",
    "import glob\n",
    "import time\n",
    "import openpyxl\n",
    "from datetime import datetime\n",
    "\n",
    "# Specify the folder where your Excel files are located\n",
    "folder_path = \"C:\\\\Users\\\\rajat.kapoor\\\\OneDrive - RattanIndia Power Limited\\\\Desktop\\\\Revolt Dashboard Data\\\\Become Dealer\"\n",
    "\n",
    "# Create a list of Excel file paths in the folder\n",
    "excel_files = glob.glob(os.path.join(folder_path, \"*.csv\"))  # For .csv files\n",
    "# excel_files = glob.glob(os.path.join(folder_path, \"*.xls\"))  # For .xls files\n",
    "\n",
    "# Check if there are any Excel files in the folder\n",
    "if not excel_files:\n",
    "    print(\"No Excel files found in the folder.\")\n",
    "else:\n",
    "    # Get the most recently modified Excel file\n",
    "    latest_file = max(excel_files, key=os.path.getmtime)\n",
    "\n",
    "    # Get the last modified time of the file\n",
    "    last_modified_timestamp = os.path.getmtime(latest_file)\n",
    "    \n",
    "    # Convert the timestamp to a human-readable date\n",
    "    last_modified_date = datetime.fromtimestamp(last_modified_timestamp)"
   ]
  },
  {
   "cell_type": "code",
   "execution_count": 4,
   "id": "cf551d56",
   "metadata": {},
   "outputs": [],
   "source": [
    "import pandas as pd\n",
    "BecomeDealer = pd.read_csv(latest_file,on_bad_lines = \"skip\")"
   ]
  },
  {
   "cell_type": "code",
   "execution_count": 5,
   "id": "5884bcc0",
   "metadata": {},
   "outputs": [],
   "source": [
    "column_to_exclude = 'ID'\n",
    "\n",
    "# Use drop_duplicates to remove duplicates based on all columns except 'column_to_exclude'\n",
    "BecomeDealer = BecomeDealer.drop_duplicates(subset=BecomeDealer.columns.difference([column_to_exclude]))"
   ]
  },
  {
   "cell_type": "code",
   "execution_count": 6,
   "id": "63e31786",
   "metadata": {},
   "outputs": [],
   "source": [
    "BecomeDealer.to_excel(\"C:\\\\Users\\\\rajat.kapoor\\\\OneDrive - RattanIndia Power Limited\\\\Desktop\\\\Revolt Dashboard Data\\\\Become Dealer\\\\BecomeDealerData_LifeTillDate.xlsx\")"
   ]
  }
 ],
 "metadata": {
  "kernelspec": {
   "display_name": "Python 3 (ipykernel)",
   "language": "python",
   "name": "python3"
  },
  "language_info": {
   "codemirror_mode": {
    "name": "ipython",
    "version": 3
   },
   "file_extension": ".py",
   "mimetype": "text/x-python",
   "name": "python",
   "nbconvert_exporter": "python",
   "pygments_lexer": "ipython3",
   "version": "3.11.1"
  }
 },
 "nbformat": 4,
 "nbformat_minor": 5
}
